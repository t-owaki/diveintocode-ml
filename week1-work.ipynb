{
 "cells": [
  {
   "cell_type": "markdown",
   "metadata": {},
   "source": [
    "### Week1授業前課題１ Pythonを使ってみよう"
   ]
  },
  {
   "cell_type": "markdown",
   "metadata": {},
   "source": [
    "#### べき乗の算術演算子を使用"
   ]
  },
  {
   "cell_type": "code",
   "execution_count": 1,
   "metadata": {},
   "outputs": [
    {
     "name": "stdout",
     "output_type": "stream",
     "text": [
      "厚さ： 703687441.77664メートル\n"
     ]
    }
   ],
   "source": [
    "\"\"\"\n",
    "紙を43回折った時の厚さを計算するコード\n",
    "\"\"\"\n",
    "\n",
    "thickness = 0.00008\n",
    "\n",
    "folded_thickness = thickness*2**43\n",
    "\n",
    "print(\"厚さ： {}メートル\".format(folded_thickness))"
   ]
  },
  {
   "cell_type": "markdown",
   "metadata": {},
   "source": [
    "#### 単位の変換"
   ]
  },
  {
   "cell_type": "code",
   "execution_count": 6,
   "metadata": {},
   "outputs": [
    {
     "name": "stdout",
     "output_type": "stream",
     "text": [
      "厚さ： 70368.74万キロメートル\n"
     ]
    }
   ],
   "source": [
    "# メートルを万キロメートルに変換して小数点以下2桁で表示する\n",
    "print(\"厚さ： {:.2f}万キロメートル\".format(folded_thickness/10000))"
   ]
  },
  {
   "cell_type": "markdown",
   "metadata": {},
   "source": [
    "月までの距離は　38440 万km　となり、十分に届く距離になります。"
   ]
  },
  {
   "cell_type": "markdown",
   "metadata": {},
   "source": [
    "> [小数点の四捨五入](https://hibiki-press.tech/learn_prog/python/round_ceil_floor/903)"
   ]
  },
  {
   "cell_type": "markdown",
   "metadata": {},
   "source": [
    "#### for 文を使用"
   ]
  },
  {
   "cell_type": "code",
   "execution_count": 16,
   "metadata": {},
   "outputs": [
    {
     "name": "stdout",
     "output_type": "stream",
     "text": [
      "厚さ： 70368.74万キロメートル\n"
     ]
    }
   ],
   "source": [
    "\"\"\"\n",
    "紙を43回折った時の厚さを計算するコード\n",
    "\"\"\"\n",
    "\n",
    "thickness = 0.00008\n",
    "num = 43\n",
    "total = 1\n",
    "\n",
    "for r in range(num):\n",
    "    total *= 2\n",
    "    \n",
    "folded_thickness = thickness * total\n",
    "\n",
    "print(\"厚さ： {:.2f}万キロメートル\".format(folded_thickness/10000))"
   ]
  },
  {
   "cell_type": "markdown",
   "metadata": {},
   "source": [
    "#### 計算時間の比較"
   ]
  },
  {
   "cell_type": "code",
   "execution_count": 28,
   "metadata": {},
   "outputs": [
    {
     "name": "stdout",
     "output_type": "stream",
     "text": [
      "time : 0.00010204315185546875[s]\n"
     ]
    }
   ],
   "source": [
    "import time\n",
    "start = time.time()\n",
    "\n",
    "thickness = 0.00008\n",
    "\n",
    "folded_thickness = thickness*2**43\n",
    "\n",
    "elapsed_time = time.time() - start\n",
    "\n",
    "print(\"time : {}[s]\".format(elapsed_time))"
   ]
  },
  {
   "cell_type": "code",
   "execution_count": 26,
   "metadata": {},
   "outputs": [
    {
     "name": "stdout",
     "output_type": "stream",
     "text": [
      "time : 0.000141143798828125[s]\n"
     ]
    }
   ],
   "source": [
    "import time\n",
    "start = time.time()\n",
    "\n",
    "thickness = 0.00008\n",
    "num = 43\n",
    "total = 1\n",
    "\n",
    "for r in range(num):\n",
    "    total *= 2\n",
    "    \n",
    "folded_thickness = thickness * total\n",
    "\n",
    "elapsed_time = time.time() - start\n",
    "\n",
    "print(\"time : {}[s]\".format(elapsed_time))"
   ]
  },
  {
   "cell_type": "markdown",
   "metadata": {},
   "source": [
    "べき乗の算術演算子を使用\n",
    "time : 0.00010204315185546875[s]\n",
    "for 文を使用\n",
    "time : 0.000141143798828125[s]\n",
    "\n",
    "計算速度だけを鑑みると、べき乗の算術演算子を使用した方が処理速度が速いです。"
   ]
  }
 ],
 "metadata": {
  "kernelspec": {
   "display_name": "Python 3",
   "language": "python",
   "name": "python3"
  },
  "language_info": {
   "codemirror_mode": {
    "name": "ipython",
    "version": 3
   },
   "file_extension": ".py",
   "mimetype": "text/x-python",
   "name": "python",
   "nbconvert_exporter": "python",
   "pygments_lexer": "ipython3",
   "version": "3.7.2"
  }
 },
 "nbformat": 4,
 "nbformat_minor": 2
}
