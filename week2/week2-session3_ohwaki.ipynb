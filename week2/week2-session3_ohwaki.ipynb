{
 "cells": [
  {
   "cell_type": "markdown",
   "metadata": {},
   "source": [
    "### Week2授業前課題3  行列積のスクラッチ"
   ]
  },
  {
   "cell_type": "code",
   "execution_count": 1,
   "metadata": {},
   "outputs": [],
   "source": [
    "'''\n",
    "モジュールのインポート\n",
    "'''\n",
    "import numpy as np\n",
    "import matplotlib.pyplot as plt\n",
    "%matplotlib inline"
   ]
  },
  {
   "cell_type": "markdown",
   "metadata": {},
   "source": [
    "#### 【問題1】行列積を手計算する"
   ]
  },
  {
   "cell_type": "code",
   "execution_count": 76,
   "metadata": {},
   "outputs": [
    {
     "name": "stdout",
     "output_type": "stream",
     "text": [
      "[[  6.  29. -20.]\n",
      " [ 12.  52.  38.]\n",
      " [-18. -51. -48.]]\n",
      "(3, 3)\n"
     ]
    }
   ],
   "source": [
    "'''\n",
    "行列A、Bの行列積を手計算で解くコード\n",
    "計算過程もマークダウンテキストを用いて説明\n",
    "'''\n",
    "a_ndarray = np.array([[-1, 2, 3], [4, -5, 6], [7, 8, -9]])\n",
    "b_ndarray = np.array([[0, 2, 1], [0, 2, -8], [2, 9, -1]])\n",
    "\n",
    "a_row = a_ndarray.shape[0]  # a_ndarra　の行数を取得\n",
    "a_col = a_ndarray.shape[1]   # a_ndarra の列数を取得\n",
    "b_row = b_ndarray.shape[0] # b_ndarra　の行数を取得\n",
    "b_col = b_ndarray.shape[1]  # b_ndarra の列数を取得\n",
    "c_ndarray = np.array([])\n",
    "\n",
    "\n",
    "for i in range(a_row):\n",
    "    for j in range(b_col):\n",
    "        temp = np.array([])\n",
    "        for k in range(b_row):\n",
    "            temp = np.append(temp, a_ndarray[i][k] * b_ndarray[k][j])\n",
    "        c_ndarray = np.append(c_ndarray, np.sum(temp))\n",
    "c_ndarray = np.reshape(c_ndarray, (a_row, b_col))\n",
    "\n",
    "print(c_ndarray)\n",
    "print(c_ndarray.shape)"
   ]
  },
  {
   "cell_type": "markdown",
   "metadata": {},
   "source": [
    "- 計算過程の説明\n",
    "    - for 構文で使うため、各行列の形状を求める\n",
    "    - for 構文内にて、i = a_ndarray の行、j = b_ndarray の列、k = b_ndarray の行 で繰り返す回数を指定"
   ]
  },
  {
   "cell_type": "markdown",
   "metadata": {},
   "source": [
    "#### 【問題2】NumPyの関数による計算"
   ]
  },
  {
   "cell_type": "code",
   "execution_count": 80,
   "metadata": {},
   "outputs": [
    {
     "name": "stdout",
     "output_type": "stream",
     "text": [
      "[[  6  29 -20]\n",
      " [ 12  52  38]\n",
      " [-18 -51 -48]]\n",
      "[[  6  29 -20]\n",
      " [ 12  52  38]\n",
      " [-18 -51 -48]]\n",
      "[[  6  29 -20]\n",
      " [ 12  52  38]\n",
      " [-18 -51 -48]]\n"
     ]
    }
   ],
   "source": [
    "'''\n",
    "np.matmul()やnp.dot()、または@演算子を使った計算コード\n",
    "'''\n",
    "print(np.dot(a_ndarray, b_ndarray))\n",
    "print(np.matmul(a_ndarray, b_ndarray))\n",
    "print(a_ndarray @ b_ndarray)"
   ]
  },
  {
   "cell_type": "markdown",
   "metadata": {},
   "source": [
    "#### 【問題3】ある要素の計算を実装"
   ]
  },
  {
   "cell_type": "code",
   "execution_count": 95,
   "metadata": {},
   "outputs": [
    {
     "name": "stdout",
     "output_type": "stream",
     "text": [
      "[6.]\n"
     ]
    }
   ],
   "source": [
    "'''\n",
    "手計算にて行列A の０行目、行列B の０列目を計算するコード\n",
    "'''\n",
    "temp = np.array([])\n",
    "c_ndarray = np.array([])\n",
    "\n",
    "# 行列A の０行目、行列B の０列目における処理\n",
    "for j in range(b_row):\n",
    "    temp = np.append(temp, a_ndarray[0][j] * b_ndarray[j][0])\n",
    "c_ndarray = np.append(c_ndarray, np.sum(temp))\n",
    "print(c_ndarray)"
   ]
  },
  {
   "cell_type": "markdown",
   "metadata": {},
   "source": [
    "#### 【問題4】行列積を行う関数の作成"
   ]
  },
  {
   "cell_type": "code",
   "execution_count": 113,
   "metadata": {},
   "outputs": [
    {
     "name": "stdout",
     "output_type": "stream",
     "text": [
      "[[149. 159. 108.]\n",
      " [ 68.  77.  52.]\n",
      " [ 25.  37.  24.]]\n"
     ]
    }
   ],
   "source": [
    "'''\n",
    "行列A、B のを引数に受け取り、行列積を返す関数を作成するコード\n",
    "'''\n",
    "matrix_a = np.random.randint(0, 10, size=(3, 3))\n",
    "matrix_b = np.random.randint(0, 10, size=(3, 3))\n",
    "\n",
    "def matrix_multi(matrix_a, matrix_b):\n",
    "    matrix_a_row = a_ndarray.shape[0]\n",
    "    matrix_a_col = a_ndarray.shape[1]\n",
    "    matrix_b_row = b_ndarray.shape[0]\n",
    "    matirx_b_col = b_ndarray.shape[1]\n",
    "    matrix_c = np.array([])\n",
    "\n",
    "    for i in range(matrix_a_row):\n",
    "        for j in range(matrix_b_col):\n",
    "            temp = np.array([])\n",
    "            for k in range(matrix_b_row):\n",
    "                temp = np.append(temp, matrix_a[i][k] * matrix_b[k][j])\n",
    "            matrix_c = np.append(matrix_c, np.sum(temp))\n",
    "    matrix_c = np.reshape(matrix_c, (matrix_a_row, matrix_b_col))\n",
    "    return matrix_c\n",
    "\n",
    "matrix_c = matrix_multi(matrix_a, matrix_b)\n",
    "print(matrix_c)"
   ]
  },
  {
   "cell_type": "markdown",
   "metadata": {},
   "source": [
    "【問題5】計算が定義されない入力を判定する"
   ]
  },
  {
   "cell_type": "code",
   "execution_count": 128,
   "metadata": {},
   "outputs": [
    {
     "name": "stdout",
     "output_type": "stream",
     "text": [
      "二つの行列のうち行数と列数が一致しません\n",
      "None\n"
     ]
    }
   ],
   "source": [
    "'''\n",
    "問題４にエラー対応を加えたコード\n",
    "'''\n",
    "matrix_a = np.random.randint(0, 10, size=(3, 3))\n",
    "matrix_b = np.random.randint(0, 10, size=(5, 3))\n",
    "\n",
    "def matrix_multi(matrix_a, matrix_b):\n",
    "    matrix_a_row = matrix_a.shape[0]\n",
    "    matrix_a_col = matrix_a.shape[1]\n",
    "    matrix_b_row = matrix_b.shape[0]\n",
    "    matirx_b_col = matrix_b.shape[1]\n",
    "    matrix_c = np.array([])\n",
    "\n",
    "    if matrix_a_col == matrix_b_row:\n",
    "        for i in range(matrix_a_row):\n",
    "            for j in range(matrix_b_col):\n",
    "                temp = np.array([])\n",
    "                for k in range(matrix_b_row):\n",
    "                    temp = np.append(temp, matrix_a[i][k] * matrix_b[k][j])\n",
    "                matrix_c = np.append(matrix_c, np.sum(temp))\n",
    "        matrix_c = np.reshape(matrix_c, (matrix_a_row, matrix_b_col))\n",
    "        return matrix_c\n",
    "    print(\"二つの行列のうち行数と列数が一致しません\")\n",
    "\n",
    "matrix_c = matrix_multi(matrix_a, matrix_b)\n",
    "print(matrix_c)"
   ]
  },
  {
   "cell_type": "markdown",
   "metadata": {},
   "source": [
    "#### 【問題6】転置"
   ]
  },
  {
   "cell_type": "code",
   "execution_count": 151,
   "metadata": {},
   "outputs": [
    {
     "name": "stdout",
     "output_type": "stream",
     "text": [
      "2次元配列\n",
      "配列：\n",
      "[[8 9]\n",
      " [7 1]\n",
      " [1 2]\n",
      " [6 3]]\n",
      "転置：\n",
      "[[8 7 1 6]\n",
      " [9 1 2 3]]\n",
      "行列積：\n",
      "[[150  99]\n",
      " [ 99  95]]\n",
      "配列(transpose(0, 1))：\n",
      "[[8 9]\n",
      " [7 1]\n",
      " [1 2]\n",
      " [6 3]]\n",
      "配列(transpose(1, 0))：\n",
      "[[8 7 1 6]\n",
      " [9 1 2 3]]\n",
      "行列積(transpose)：\n",
      "[[150  99]\n",
      " [ 99  95]]\n"
     ]
    }
   ],
   "source": [
    "'''\n",
    "片方の行列を転置することで、行列積が計算するコード\n",
    "'''\n",
    "# 2次元配列\n",
    "two_dimension_a = np.random.randint(0, 10, size=(4, 2))\n",
    "print(\"2次元配列\")\n",
    "print(\"配列：\\n{}\".format(two_dimension_a))\n",
    "print(\"転置：\\n{}\".format(two_dimension_a.T))\n",
    "print(\"行列積：\\n{}\".format(np.dot(two_dimension_a.T, two_dimension_a)))\n",
    "print(\"配列(transpose(0, 1))：\\n{}\".format(two_dimension_a.transpose(0, 1)))\n",
    "print(\"配列(transpose(1, 0))：\\n{}\".format(two_dimension_a.transpose(1, 0)))\n",
    "print(\"行列積(transpose)：\\n{}\".format(np.dot(two_dimension_a.transpose(1, 0), two_dimension_a.transpose(0, 1))))"
   ]
  }
 ],
 "metadata": {
  "kernelspec": {
   "display_name": "Python 3",
   "language": "python",
   "name": "python3"
  },
  "language_info": {
   "codemirror_mode": {
    "name": "ipython",
    "version": 3
   },
   "file_extension": ".py",
   "mimetype": "text/x-python",
   "name": "python",
   "nbconvert_exporter": "python",
   "pygments_lexer": "ipython3",
   "version": "3.6.6"
  }
 },
 "nbformat": 4,
 "nbformat_minor": 2
}
