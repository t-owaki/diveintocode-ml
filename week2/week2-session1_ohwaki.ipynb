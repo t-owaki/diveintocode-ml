{
 "cells": [
  {
   "cell_type": "markdown",
   "metadata": {},
   "source": [
    "### Week2授業前課題1  小麦とチェス盤問題"
   ]
  },
  {
   "cell_type": "code",
   "execution_count": 2,
   "metadata": {},
   "outputs": [],
   "source": [
    "'''\n",
    "モジュールのインポート\n",
    "'''\n",
    "import numpy as np\n",
    "import matplotlib.pyplot as plt\n",
    "%matplotlib inline"
   ]
  },
  {
   "cell_type": "markdown",
   "metadata": {},
   "source": [
    "- ndarray の定義\n",
    "    > An ndarray is a (usually fixed-size) multidimensional container of items of the same type and size.\n",
    "    >\n",
    "    > ndarrayは、同じ型やサイズで構成された複数要素の、たいてい一定の大きさを持つ多次元の容れ物である。\n",
    "- ndarray の特徴\n",
    "    - 同じ型を持つ要素しか格納することができない\n",
    "    - 各次元ごとの（2次元なら列ごとや行ごと）の要素数は必ず一定\n",
    "    - C言語を元に、最適化された行列演算を行うため効率的な処理をすることができる\n",
    " \n",
    "#### ndarrayにすることで、多次元データを扱うための便利な属性を使用することができるようになります。"
   ]
  },
  {
   "cell_type": "markdown",
   "metadata": {},
   "source": [
    "#### 【問題1】2×2マスのチェス盤の小麦の数"
   ]
  },
  {
   "cell_type": "code",
   "execution_count": 3,
   "metadata": {},
   "outputs": [
    {
     "name": "stdout",
     "output_type": "stream",
     "text": [
      "配列の要素\n",
      "[[1 2]\n",
      " [4 8]]\n",
      "配列の形状：(2, 2)\n",
      "配列の次元数:2\n"
     ]
    }
   ],
   "source": [
    "'''\n",
    "ndarray 配列での形状変換(reshape)\n",
    "'''\n",
    "small_board_list = [2**i for i in range(4)]\n",
    "small_board_ndarray = np.array(small_board_list)\n",
    "small_board_ndarray = small_board_ndarray.reshape(2, 2)\n",
    "print(\"配列の要素\\n{}\".format(small_board_ndarray))\n",
    "print(\"配列の形状：{}\".format(small_board_ndarray.shape))\n",
    "print(\"配列の次元数:{}\".format(np.ndim(small_board_ndarray)))"
   ]
  },
  {
   "cell_type": "markdown",
   "metadata": {},
   "source": [
    "#### 【問題2】n×mマスへの拡張"
   ]
  },
  {
   "cell_type": "code",
   "execution_count": 10,
   "metadata": {},
   "outputs": [
    {
     "name": "stdout",
     "output_type": "stream",
     "text": [
      "行の数を入力してください ： 3\n",
      "列の数を入力してください ： 3\n",
      "配列の要素:\n",
      "[[  1.   2.   4.]\n",
      " [  8.  16.  32.]\n",
      " [ 64. 128. 256.]]\n",
      "配列の形状：(3, 3)\n",
      "配列の次元数:2\n"
     ]
    }
   ],
   "source": [
    "'''\n",
    "n x mマスのチェス盤の小麦の数を記したndarrayを返す関数 &\n",
    "8 x 8マスのチェス盤の小麦の数を求めるコード\n",
    "'''\n",
    "# 行列の要素数を求める\n",
    "def chess_matrix_num():\n",
    "    while True:\n",
    "        try:\n",
    "            row = int(input(\"行の数を入力してください ： \"))\n",
    "            col = int(input(\"列の数を入力してください ： \"))\n",
    "            break\n",
    "        except ValueError:\n",
    "            print (\"エラー：数字以外の文字を入力しないでください。\")\n",
    "    \n",
    "    return row, col\n",
    "\n",
    "# 小麦の数を計算する\n",
    "def wheat_num(row, col):\n",
    "    n = 0 # カウント用\n",
    "    wheat_ndarray = np.array([1], dtype='uint64')  # 小麦の数を格納するためのリスト\n",
    "    \n",
    "    for i in range(row*col - 1):\n",
    "            wheat_ndarray = np.append(wheat_ndarray, wheat_ndarray[-1]*2)\n",
    "    \n",
    "    return wheat_ndarray.reshape(row, col)\n",
    "\n",
    "row, col = chess_matrix_num()\n",
    "wheat_ndarray = wheat_num(row, col)\n",
    "print(\"配列の要素:\\n{}\".format(wheat_ndarray))\n",
    "print(\"配列の形状：{}\".format(wheat_ndarray.shape))\n",
    "print(\"配列の次元数:{}\".format(np.ndim(wheat_ndarray)))"
   ]
  },
  {
   "cell_type": "markdown",
   "metadata": {},
   "source": [
    "#### 【問題3】小麦の数の合計"
   ]
  },
  {
   "cell_type": "code",
   "execution_count": 5,
   "metadata": {},
   "outputs": [
    {
     "name": "stdout",
     "output_type": "stream",
     "text": [
      "小麦の数の合計：1.8446744073709552e+19\n"
     ]
    },
    {
     "data": {
      "image/png": "[encoded data removed]",
      "text/plain": [
       "<Figure size 432x288 with 1 Axes>"
      ]
     },
     "metadata": {
      "needs_background": "light"
     },
     "output_type": "display_data"
    }
   ],
   "source": [
    "'''\n",
    "8 x 8マスのチェス盤の小麦の数の合計を求める &\n",
    "各列の平均を求め、それを棒グラフで可視化するコード\n",
    "'''\n",
    "row, col = 8, 8 # 行数, 列数\n",
    "wheat_ndarray = wheat_num(row, col)\n",
    "sum_wheat = np.sum(wheat_ndarray)\n",
    "print(\"小麦の数の合計：{}\".format(sum_wheat))\n",
    "\n",
    "plt.xlabel(\"column\")\n",
    "plt.ylabel(\"number\")\n",
    "plt.title(\"number in each column\")\n",
    "plt.bar(np.arange(1, col + 1), np.mean(wheat_ndarray, axis=0))\n",
    "plt.show()"
   ]
  },
  {
   "cell_type": "markdown",
   "metadata": {},
   "source": [
    "- memo\n",
    "    - 1e+0 = 1\n",
    "    - 1e+1 = 10\n",
    "    - 1e+2 = 100"
   ]
  },
  {
   "cell_type": "markdown",
   "metadata": {},
   "source": [
    "#### 【問題4】小麦の数のヒートマップ"
   ]
  },
  {
   "cell_type": "code",
   "execution_count": 6,
   "metadata": {},
   "outputs": [
    {
     "data": {
      "image/png": "[encoded data removed]",
      "text/plain": [
       "<Figure size 432x288 with 1 Axes>"
      ]
     },
     "metadata": {
      "needs_background": "light"
     },
     "output_type": "display_data"
    }
   ],
   "source": [
    "'''\n",
    "8×8マスのチェス盤の小麦の数をヒートマップとして可視化するコード\n",
    "'''\n",
    "row, col = 8, 8 # 行数, 列数\n",
    "\n",
    "plt.xlabel(\"column\")\n",
    "plt.ylabel(\"row\")\n",
    "plt.title(\"heatmap\")\n",
    "plt.pcolor(np.array(wheat_num(row, col)))\n",
    "plt.show()"
   ]
  },
  {
   "cell_type": "markdown",
   "metadata": {},
   "source": [
    "#### 【問題5】後半は前半の何倍か"
   ]
  },
  {
   "cell_type": "code",
   "execution_count": 7,
   "metadata": {},
   "outputs": [
    {
     "name": "stdout",
     "output_type": "stream",
     "text": [
      "チェス盤の後半にある小麦の数は前半にある小麦の数の4294967296.0倍です。\n"
     ]
    }
   ],
   "source": [
    "'''\n",
    "チェス盤の後半にある小麦の数は前半にある小麦の数の何倍かを求めるコード\n",
    "'''\n",
    "row, col = 8, 8 # 行数, 列数\n",
    "wheat_ndarray = wheat_num(row, col)\n",
    "wheat_ndarray = wheat_ndarray.astype(np.uint64)\n",
    "chess_upper_sum = wheat_ndarray[0:4, 0:8].sum()\n",
    "chess_lower_sum = wheat_ndarray[4:8, 0:8].sum()\n",
    "\n",
    "print(\"チェス盤の後半にある小麦の数は前半にある小麦の数の{}倍です。\" \\\n",
    ".format(chess_lower_sum / chess_upper_sum))"
   ]
  },
  {
   "cell_type": "markdown",
   "metadata": {},
   "source": [
    "- memo\n",
    "    - 乱数生成\n",
    "        - np.random.randint(0, 5, size=(3, 3))  \n",
    "          0 〜 4 までの乱数を 3 * 3 の行列を作成\n",
    "    - 行列の範囲指定の合計\n",
    "        - np.array[0:2, 2:3].sum()  \n",
    "          0 〜 1行目で２列目を表示\n",
    "    - データ型\n",
    "        - [NumPyにおける要素のデータ型dtypeの種類と指定方法](https://deepage.net/features/numpy-dtype.html)"
   ]
  },
  {
   "cell_type": "markdown",
   "metadata": {},
   "source": [
    "#### 【問題6】他の計算方法によるn×mマスへの拡張"
   ]
  },
  {
   "cell_type": "code",
   "execution_count": 8,
   "metadata": {},
   "outputs": [
    {
     "name": "stdout",
     "output_type": "stream",
     "text": [
      "行の数を入力してください ： 3\n",
      "列の数を入力してください ： 3\n",
      "配列の要素:\n",
      "[[  1   2   4]\n",
      " [  8  16  32]\n",
      " [ 64 128 256]]\n",
      "配列の形状：(3, 3)\n",
      "配列の次元数:2\n"
     ]
    }
   ],
   "source": [
    "'''\n",
    "n x mマスのチェス盤の小麦の数を記したndarrayを返す関数(append)\n",
    "'''\n",
    "# 小麦の数を計算する関数(append)\n",
    "def wheat_num_1(row, col):\n",
    "    wheat_ndarray = np.array([1])  # 小麦の数を格納するための配列\n",
    "    \n",
    "    for i in range(row*col - 1):\n",
    "            wheat_ndarray = np.append(wheat_ndarray, wheat_ndarray[-1]*2)\n",
    "    \n",
    "    return wheat_ndarray.reshape(row, col)\n",
    "\n",
    "row, col = chess_matrix_num()\n",
    "wheat_ndarray = wheat_num_1(row, col)\n",
    "print(\"配列の要素:\\n{}\".format(wheat_ndarray))\n",
    "print(\"配列の形状：{}\".format(wheat_ndarray.shape))\n",
    "print(\"配列の次元数:{}\".format(np.ndim(wheat_ndarray)))"
   ]
  },
  {
   "cell_type": "code",
   "execution_count": 9,
   "metadata": {},
   "outputs": [
    {
     "name": "stdout",
     "output_type": "stream",
     "text": [
      "行の数を入力してください ： 3\n",
      "列の数を入力してください ： 3\n",
      "配列の要素:\n",
      "[[  1   2   4]\n",
      " [  8  16  32]\n",
      " [ 64 128 256]]\n",
      "配列の形状：(3, 3)\n",
      "配列の次元数:2\n"
     ]
    }
   ],
   "source": [
    "'''\n",
    "n x mマスのチェス盤の小麦の数を記したndarrayを返す関数(ブロードキャスト)\n",
    "'''\n",
    "# 小麦の数を計算する関数(ブロードキャスト)\n",
    "def wheat_num_1(row, col):\n",
    "    wheat_ndarray = 2**np.arange(row*col)\n",
    "    \n",
    "    return wheat_ndarray.reshape(row, col)\n",
    "\n",
    "row, col = chess_matrix_num()\n",
    "wheat_ndarray = wheat_num_1(row, col)\n",
    "print(\"配列の要素:\\n{}\".format(wheat_ndarray))\n",
    "print(\"配列の形状：{}\".format(wheat_ndarray.shape))\n",
    "print(\"配列の次元数:{}\".format(np.ndim(wheat_ndarray)))"
   ]
  }
 ],
 "metadata": {
  "kernelspec": {
   "display_name": "Python 3",
   "language": "python",
   "name": "python3"
  }
 },
 "nbformat": 4,
 "nbformat_minor": 2
}
