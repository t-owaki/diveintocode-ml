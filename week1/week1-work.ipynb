{
 "cells": [
  {
   "cell_type": "markdown",
   "metadata": {},
   "source": [
    "### Week1授業前課題１ Pythonを使ってみよう"
   ]
  },
  {
   "cell_type": "markdown",
   "metadata": {},
   "source": [
    "#### べき乗の算術演算子を使用"
   ]
  },
  {
   "cell_type": "code",
   "execution_count": 1,
   "metadata": {},
   "outputs": [
    {
     "name": "stdout",
     "output_type": "stream",
     "text": [
      "厚さ： 703687441.77664メートル\n"
     ]
    }
   ],
   "source": [
    "\"\"\"\n",
    "紙を43回折った時の厚さを計算するコード（べき乗）\n",
    "\"\"\"\n",
    "\n",
    "thickness = 0.00008\n",
    "\n",
    "folded_thickness = thickness*2**43\n",
    "\n",
    "print(\"厚さ： {}メートル\".format(folded_thickness))"
   ]
  },
  {
   "cell_type": "markdown",
   "metadata": {},
   "source": [
    "#### 単位の変換"
   ]
  },
  {
   "cell_type": "code",
   "execution_count": 31,
   "metadata": {},
   "outputs": [
    {
     "name": "stdout",
     "output_type": "stream",
     "text": [
      "厚さ： 70.37万キロメートル\n"
     ]
    }
   ],
   "source": [
    "# メートルを万キロメートルに変換して小数点以下2桁で表示する\n",
    "print(\"厚さ： {:.2f}万キロメートル\".format(folded_thickness/10000000))"
   ]
  },
  {
   "cell_type": "markdown",
   "metadata": {},
   "source": [
    "月までの距離は　38 万km　となり、十分に届く距離になります。"
   ]
  },
  {
   "cell_type": "markdown",
   "metadata": {},
   "source": [
    "> [小数点の四捨五入](https://hibiki-press.tech/learn_prog/python/round_ceil_floor/903)"
   ]
  },
  {
   "cell_type": "markdown",
   "metadata": {},
   "source": [
    "#### for 文を使用"
   ]
  },
  {
   "cell_type": "code",
   "execution_count": 8,
   "metadata": {},
   "outputs": [
    {
     "name": "stdout",
     "output_type": "stream",
     "text": [
      "厚さ： 70.37万キロメートル\n"
     ]
    }
   ],
   "source": [
    "\"\"\"\n",
    "紙を43回折った時の厚さを計算するコード(for文)\n",
    "\"\"\"\n",
    "\n",
    "thickness = 0.00008\n",
    "num = 43 # 回数\n",
    "total = 1  #  べき乗の初期値\n",
    "\n",
    "for n in range(num): # 0〜42 の計43回処理を繰り返す\n",
    "    total *= 2\n",
    "\n",
    "# 厚さを計算\n",
    "folded_thickness = thickness * total\n",
    "\n",
    "print(\"厚さ： {:.2f}万キロメートル\".format(folded_thickness/10000000))"
   ]
  },
  {
   "cell_type": "markdown",
   "metadata": {},
   "source": [
    "#### 計算時間の比較"
   ]
  },
  {
   "cell_type": "code",
   "execution_count": 28,
   "metadata": {},
   "outputs": [
    {
     "name": "stdout",
     "output_type": "stream",
     "text": [
      "time : 0.00010204315185546875[s]\n"
     ]
    }
   ],
   "source": [
    "import time\n",
    "start = time.time()\n",
    "\n",
    "thickness = 0.00008\n",
    "\n",
    "folded_thickness = thickness*2**43\n",
    "\n",
    "elapsed_time = time.time() - start\n",
    "\n",
    "print(\"time : {}[s]\".format(elapsed_time))"
   ]
  },
  {
   "cell_type": "code",
   "execution_count": 26,
   "metadata": {},
   "outputs": [
    {
     "name": "stdout",
     "output_type": "stream",
     "text": [
      "time : 0.000141143798828125[s]\n"
     ]
    }
   ],
   "source": [
    "import time\n",
    "start = time.time()\n",
    "\n",
    "thickness = 0.00008\n",
    "num = 43\n",
    "total = 1\n",
    "\n",
    "for n in range(num):\n",
    "    total *= 2\n",
    "    \n",
    "folded_thickness = thickness * total\n",
    "\n",
    "elapsed_time = time.time() - start\n",
    "\n",
    "print(\"time : {}[s]\".format(elapsed_time))"
   ]
  },
  {
   "cell_type": "markdown",
   "metadata": {},
   "source": [
    "計算速度だけを鑑みると、べき乗の算術演算子を使用した方が処理速度が速いです。"
   ]
  },
  {
   "cell_type": "markdown",
   "metadata": {},
   "source": [
    "#### 配列への保存"
   ]
  },
  {
   "cell_type": "code",
   "execution_count": 11,
   "metadata": {},
   "outputs": [
    {
     "name": "stdout",
     "output_type": "stream",
     "text": [
      "配列の要素：44\n"
     ]
    }
   ],
   "source": [
    "\"\"\"\n",
    "紙を43回折った時のそれぞれの厚さの値をリストに格納するコード\n",
    "\"\"\"\n",
    "\n",
    "thickness = 0.00008\n",
    "paper_list = []\n",
    "paper_list.append(thickness) # 折る前の紙の厚さを格納\n",
    "num = 43                                  # 回数\n",
    "total = 0\n",
    "\n",
    "# 紙を43回折った時のそれぞれの厚さをリストに格納\n",
    "# total にはリストの１つ前の要素を2乗した値を格納\n",
    "for n in range(1, num +1):\n",
    "    total = paper_list[n-1] * 2 \n",
    "    paper_list.append(total)\n",
    "    \n",
    "print(\"配列の要素：{}\".format(len(paper_list)))"
   ]
  },
  {
   "cell_type": "markdown",
   "metadata": {},
   "source": [
    "#### 折れ線グラフの表示"
   ]
  },
  {
   "cell_type": "code",
   "execution_count": 12,
   "metadata": {},
   "outputs": [
    {
     "data": {
      "text/plain": [
       "[<matplotlib.lines.Line2D at 0x11cebc9e8>]"
      ]
     },
     "execution_count": 12,
     "metadata": {},
     "output_type": "execute_result"
    },
    {
     "data": {
      "image/png": "[encoded data removed]",
      "text/plain": [
       "<Figure size 432x288 with 1 Axes>"
      ]
     },
     "metadata": {
      "needs_background": "light"
     },
     "output_type": "display_data"
    }
   ],
   "source": [
    "\"\"\"\n",
    "グラフを表示する。タイトルと軸ラベル名付き。\n",
    "\"\"\"\n",
    "import matplotlib.pyplot as plt\n",
    "%matplotlib inline\n",
    "\n",
    "plt.title(\"thickness of folded paper\")\n",
    "plt.xlabel(\"number of folds\")\n",
    "plt.ylabel(\"thickness[m]\")\n",
    "plt.plot(paper_list)"
   ]
  },
  {
   "cell_type": "markdown",
   "metadata": {},
   "source": [
    "#### グラフの考察"
   ]
  },
  {
   "cell_type": "markdown",
   "metadata": {},
   "source": [
    "最初は小さな値をだったが、値が爆発的に増加している"
   ]
  },
  {
   "cell_type": "markdown",
   "metadata": {},
   "source": [
    "#### (オプション課題)　グラフのカスタマイズ"
   ]
  },
  {
   "cell_type": "code",
   "execution_count": 21,
   "metadata": {},
   "outputs": [
    {
     "data": {
      "image/png": "[encoded data removed]",
      "text/plain": [
       "<Figure size 1008x432 with 1 Axes>"
      ]
     },
     "metadata": {
      "needs_background": "light"
     },
     "output_type": "display_data"
    }
   ],
   "source": [
    "\"\"\"\n",
    "グラフのカスタマイズ\n",
    "\"\"\"\n",
    "import matplotlib.pyplot as plt\n",
    "%matplotlib inline\n",
    "\n",
    "plt.figure(figsize=(14, 6))                                          # グラフのサイズを指定\n",
    "plt.title(\"thickness of folded paper\", fontsize=18)# グラフのタイトル名を指定\n",
    "plt.xlabel(\"number of folds\", fontsize=15)               # x軸のラベル名、サイズを指定\n",
    "plt.ylabel(\"thickness[m]\", fontsize=15)                   # y軸のラベル名、サイズを指定\n",
    "plt.grid(True)                                                                # グリッド線を指定    \n",
    "plt.plot(paper_list, color='orange', linestyle='dashed', linewidth=4, label='folded paper') \n",
    "plt.legend(fontsize=18)                                              # 凡例の表示\n",
    "plt.tick_params(labelsize=20)                                   # 目盛の文字のサイズを指定\n",
    "plt.show()"
   ]
  },
  {
   "cell_type": "markdown",
   "metadata": {},
   "source": [
    "#### (オプション課題)　Python が使われる理由"
   ]
  },
  {
   "cell_type": "markdown",
   "metadata": {},
   "source": [
    "* アメリカのプログラム初等教育言語に導入されているように、初学者が学びやすい言語である。\n",
    "(必ずしもバリバリのプログラムエンジニアではない様々なバックグラウンドを持つ人も扱いやすい)\n",
    "* 科学技術計算のライブラリが充実していること。\n",
    "* Python はインタプリタ言語であり、コンパイラ言語とは異なりトライアンドエラーがしやすい。\n"
   ]
  }
 ],
 "metadata": {
  "kernelspec": {
   "display_name": "Python 3",
   "language": "python",
   "name": "python3"
  },
  "language_info": {
   "codemirror_mode": {
    "name": "ipython",
    "version": 3
   },
   "file_extension": ".py",
   "mimetype": "text/x-python",
   "name": "python",
   "nbconvert_exporter": "python",
   "pygments_lexer": "ipython3",
   "version": "3.7.2"
  }
 },
 "nbformat": 4,
 "nbformat_minor": 2
}
