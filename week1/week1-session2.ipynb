{
 "cells": [
  {
   "cell_type": "markdown",
   "metadata": {},
   "source": [
    "### Week1授業前課題２ 何回折ったら富士山を超えるか問題"
   ]
  },
  {
   "cell_type": "markdown",
   "metadata": {},
   "source": [
    "#### 【課題】富士山を超える最小の折る回数"
   ]
  },
  {
   "cell_type": "code",
   "execution_count": 9,
   "metadata": {},
   "outputs": [
    {
     "name": "stdout",
     "output_type": "stream",
     "text": [
      "富士山を超える最小の折る回数：26\n"
     ]
    }
   ],
   "source": [
    "\"\"\"\n",
    "富士山を超える最小の折る回数のコード\n",
    "\"\"\"\n",
    "# 紙を折っていくたびに富士山の高さを比較する関数\n",
    "def paper_thickness_calculation():\n",
    "    list_folded_thickness = []\n",
    "    list_folded_thickness.append(0.00008)\n",
    "    temp_folded_thickness = 0\n",
    "    n = 1\n",
    "    fuji_height = 3776\n",
    "    # 富士山の高さを超えなければ処理を繰り返す\n",
    "    while True:\n",
    "        if  list_folded_thickness[-1] > fuji_height:\n",
    "            break\n",
    "        temp_folded_thickness = list_folded_thickness[n-1] * 2\n",
    "        list_folded_thickness.append(temp_folded_thickness)\n",
    "        n += 1\n",
    "    \n",
    "    return (len(list_folded_thickness) - 1)\n",
    "paper_folded_num = paper_thickness_calculation()\n",
    "print(\"富士山を超える最小の折る回数：{}\".format(paper_folded_num))"
   ]
  },
  {
   "cell_type": "markdown",
   "metadata": {},
   "source": [
    "#### 【課題】任意の厚さに対応した関数を作成"
   ]
  },
  {
   "cell_type": "markdown",
   "metadata": {},
   "source": [
    "最も近い太陽系以外の恒星：プロキシマ・ケンタウリ\n",
    "距離：4.243光年(4.01419e+16m)"
   ]
  },
  {
   "cell_type": "code",
   "execution_count": 14,
   "metadata": {},
   "outputs": [
    {
     "name": "stdout",
     "output_type": "stream",
     "text": [
      "富士山を超える最小の折る回数：69\n"
     ]
    }
   ],
   "source": [
    "\"\"\"\n",
    "任意の厚さに対応した関数を作成し、最も近い太陽以外の恒星に到達するには\n",
    "何回折ればいいのかのコード\n",
    "\"\"\"\n",
    "# 任意の厚さに対応した関数\n",
    "def paper_thickness_calculation(f_distance, f_first_thickness):\n",
    "    list_folded_thickness = []\n",
    "    list_folded_thickness.append(f_first_thickness)\n",
    "    temp_folded_thickness = 0\n",
    "    n = 1\n",
    "    # 折った厚さが比較対処の距離を超えなければ処理を繰り返す\n",
    "    while True:\n",
    "        if  list_folded_thickness[-1] > f_distance:\n",
    "            break\n",
    "        temp_folded_thickness = list_folded_thickness[n-1] * 2\n",
    "        list_folded_thickness.append(temp_folded_thickness)\n",
    "        n += 1\n",
    "    \n",
    "    return (len(list_folded_thickness) - 1)\n",
    "\n",
    "distance = 4.01419e+16 # プロキシマ・ケンタウリ恒星までの距離\n",
    "first_thickness = 0.00008 # 折る前の紙の厚さ\n",
    "\n",
    "paper_folded_num = paper_thickness_calculation(distance, first_thickness)\n",
    "\n",
    "print(\"富士山を超える最小の折る回数：{}\".format(paper_folded_num))"
   ]
  },
  {
   "cell_type": "markdown",
   "metadata": {},
   "source": [
    "#### 【課題】必要な紙の長さ"
   ]
  },
  {
   "cell_type": "code",
   "execution_count": 39,
   "metadata": {},
   "outputs": [
    {
     "name": "stdout",
     "output_type": "stream",
     "text": [
      "富士山に到達するには 18855.071282811794万km の紙の長さが必要になります。 \n",
      "月に到達するには 323927643613118.3万km の紙の長さが必要になります。 \n",
      "プロキシマ・ケンタウリ恒星に到達するには 1.458840415070545e+30万km の紙の長さが必要になります。 \n"
     ]
    }
   ],
   "source": [
    "\"\"\"\n",
    "公式を用いて「月」「富士山」「最も近い太陽以外の恒星」に到達に\n",
    "必要な紙の長さを求めるコード\n",
    "\"\"\"\n",
    "# 任意の厚さに対応した関数\n",
    "def paper_thickness_calculation(f_distance, f_first_thickness):\n",
    "    list_folded_thickness = []\n",
    "    list_folded_thickness.append(f_first_thickness)\n",
    "    temp_folded_thickness = 0\n",
    "    n = 1\n",
    "    # 折った厚さが比較対処の距離を超えなければ処理を繰り返す\n",
    "    while True:\n",
    "        if  list_folded_thickness[-1] > f_distance:\n",
    "            break\n",
    "        temp_folded_thickness = list_folded_thickness[n-1] * 2\n",
    "        list_folded_thickness.append(temp_folded_thickness)\n",
    "        n += 1\n",
    "\n",
    "    return(paper_length_formula(len(list_folded_thickness) - 1, f_first_thickness))\n",
    "\n",
    "# n回折るために必要な紙の長さの公式\n",
    "def paper_length_formula(f_n = 0, f_first_thickness=0):\n",
    "    return (3.14 * f_first_thickness * ((2**f_n) + 4) * ((2**f_n) - 1)) / 6\n",
    "\n",
    "first_thickness = 0.00008 # 折る前の紙の厚さ\n",
    "\n",
    "distance = 3776 # 富士山の高さ\n",
    "paper_folded_num = paper_thickness_calculation(distance, first_thickness)\n",
    "print(\"富士山に到達するには {}万km の紙の長さが必要になります。 \".format(paper_folded_num / 10000000))\n",
    "\n",
    "distance = 384400000 # 月までの距離\n",
    "paper_folded_num = paper_thickness_calculation(distance, first_thickness)\n",
    "print(\"月に到達するには {}万km の紙の長さが必要になります。 \".format(paper_folded_num / 10000000))\n",
    "\n",
    "distance = 4.01419e+16 # プロキシマ・ケンタウリ恒星までの距離\n",
    "paper_folded_num = paper_thickness_calculation(distance, first_thickness)\n",
    "print(\"プロキシマ・ケンタウリ恒星に到達するには {}万km の紙の長さが必要になります。 \".format(paper_folded_num / 10000000))"
   ]
  }
 ],
 "metadata": {
  "kernelspec": {
   "display_name": "Python 3",
   "language": "python",
   "name": "python3"
  },
  "language_info": {
   "codemirror_mode": {
    "name": "ipython",
    "version": 3
   },
   "file_extension": ".py",
   "mimetype": "text/x-python",
   "name": "python",
   "nbconvert_exporter": "python",
   "pygments_lexer": "ipython3",
   "version": "3.7.2"
  }
 },
 "nbformat": 4,
 "nbformat_minor": 2
}
